{
 "metadata": {
  "language_info": {
   "codemirror_mode": {
    "name": "ipython",
    "version": 3
   },
   "file_extension": ".py",
   "mimetype": "text/x-python",
   "name": "python",
   "nbconvert_exporter": "python",
   "pygments_lexer": "ipython3",
   "version": "3.8.5-final"
  },
  "orig_nbformat": 2,
  "kernelspec": {
   "name": "python38564bit532e4f262c824eeb9e75a918cc794421",
   "display_name": "Python 3.8.5 64-bit",
   "language": "python"
  }
 },
 "nbformat": 4,
 "nbformat_minor": 2,
 "cells": [
  {
   "cell_type": "code",
   "execution_count": 4,
   "metadata": {},
   "outputs": [],
   "source": [
    "import markdown"
   ]
  },
  {
   "cell_type": "code",
   "execution_count": 5,
   "metadata": {},
   "outputs": [],
   "source": [
    "filename = input(\"Enter a filename: \")"
   ]
  },
  {
   "cell_type": "code",
   "execution_count": 6,
   "metadata": {},
   "outputs": [],
   "source": [
    "with open('cli_basics.md', 'r') as f:\n",
    "    text = f.read()\n",
    "    html = markdown.markdown(text)\n",
    "\n",
    "with open('cli_basics.html', 'w') as f:\n",
    "    f.write(\"\"\"<style>\n",
    "    body {\n",
    "        font-family: system-ui,-apple-system, BlinkMacSystemFont, \"Segoe UI\", Roboto, Oxygen, Ubuntu, Cantarell, \"Fira Sans\", \"Droid Sans\", \"Helvetica Neue\", Arial,sans-serif, \"Apple Color Emoji\", \"Segoe UI Emoji\", \"Segoe UI Symbol\"; \n",
    "    }\n",
    "    div {\n",
    "\n",
    "        position: fixed;\n",
    "        top: 50%;\n",
    "        left: 50%;\n",
    "        transform: translate(-50%, -50%);\n",
    "\n",
    "    }\n",
    "\n",
    "    </style>\n",
    "\n",
    "    <div>\n",
    "\n",
    "    \"\"\")\n",
    "    f.write(html)\n",
    "    f.write(\"</div>\")"
   ]
  }
 ]
}