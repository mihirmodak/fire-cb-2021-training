{
 "metadata": {
  "language_info": {
   "codemirror_mode": {
    "name": "ipython",
    "version": 3
   },
   "file_extension": ".py",
   "mimetype": "text/x-python",
   "name": "python",
   "nbconvert_exporter": "python",
   "pygments_lexer": "ipython3",
   "version": "3.8.5-final"
  },
  "orig_nbformat": 2,
  "kernelspec": {
   "name": "python38564bit532e4f262c824eeb9e75a918cc794421",
   "display_name": "Python 3.8.5 64-bit",
   "language": "python"
  }
 },
 "nbformat": 4,
 "nbformat_minor": 2,
 "cells": [
  {
   "cell_type": "code",
   "execution_count": 1,
   "metadata": {},
   "outputs": [],
   "source": [
    "import markdown\n",
    "import os"
   ]
  },
  {
   "cell_type": "code",
   "execution_count": 2,
   "metadata": {},
   "outputs": [
    {
     "output_type": "stream",
     "name": "stdout",
     "text": [
      "cli_basics\n"
     ]
    }
   ],
   "source": [
    "filename = input(\"Enter the filename (including the extension) of a file in the markdown folder. This should not have periods / dots ('.') : \\n\")\n",
    "filename = filename.split(\".\")[0]\n",
    "print(filename)"
   ]
  },
  {
   "cell_type": "code",
   "execution_count": 3,
   "metadata": {},
   "outputs": [],
   "source": [
    "def create_html(filename = filename):\n",
    "    with open('html/' + filename + \".html\", 'w') as milk_and_cookies:\n",
    "            milk_and_cookies.write(\"\"\"<style>\n",
    "            body {\n",
    "            font-family: system-ui,-apple-system, BlinkMacSystemFont, \"Segoe UI\", Roboto, Oxygen, Ubuntu, Cantarell, \"Fira Sans\", \"Droid Sans\", \"Helvetica Neue\", Arial,sans-serif, \"Apple Color Emoji\", \"Segoe UI Emoji\", \"Segoe UI Symbol\"; \n",
    "            overflow: scroll;\n",
    "            }\n",
    "            .MainText {\n",
    "            max-width: 50%;\n",
    "            margin: 0 auto;\n",
    "\n",
    "            }\n",
    "\n",
    "            .CodeBlock {\n",
    "            background-color: #e6e6e6;\n",
    "            font-family: monospace;\n",
    "            padding: 5px;\n",
    "            }\n",
    "\n",
    "            .Video {\n",
    "            margin: auto;\n",
    "            }\n",
    "\n",
    "            </style>\n",
    "\n",
    "            <div class=\"MainText\">\n",
    "\n",
    "            \"\"\")\n",
    "\n",
    "\n",
    "    with open('markdown/' + filename + \".md\", 'r') as f:\n",
    "        lines = f.readlines()\n",
    "        prev_codeblock = False\n",
    "            \n",
    "        for text in lines:\n",
    "            html = markdown.markdown(text) + \"\\n\"\n",
    "            # if text != \"\\n\":\n",
    "            #     print(html)\n",
    "\n",
    "            skip = False\n",
    "\n",
    "            with open('html/' + filename + \".html\", 'a') as g:\n",
    "\n",
    "                if \"```\" in html and not prev_codeblock:\n",
    "                    g.write('<div class=\"CodeBlock\">')\n",
    "                    prev_codeblock = True\n",
    "                    skip = True\n",
    "                elif \"```\" in html and prev_codeblock:\n",
    "                    g.write(\"</div>\")\n",
    "                    prev_codeblock = False\n",
    "                    skip = True\n",
    "                elif \"<iframe\" in html:\n",
    "                    g.write('<div class=\"Video\">')\n",
    "                    g.write(html)\n",
    "                    g.write(\"</div>\")\n",
    "                    skip = True\n",
    "\n",
    "                if not skip:\n",
    "                    g.write(html)\n",
    "                    skip = False\n",
    "        \n",
    "        with open('html/' + filename + \".html\", 'a') as g:\n",
    "            g.write(\"</div>\")"
   ]
  },
  {
   "cell_type": "code",
   "execution_count": 4,
   "metadata": {},
   "outputs": [],
   "source": [
    "def create_index():\n",
    "    with open('index.html', 'w') as moo:\n",
    "        moo.write(\"\"\"<style>\n",
    "            body {\n",
    "            font-family: system-ui,-apple-system, BlinkMacSystemFont, \"Segoe UI\", Roboto, Oxygen, Ubuntu, Cantarell, \"Fira Sans\", \"Droid Sans\", \"Helvetica Neue\", Arial,sans-serif, \"Apple Color Emoji\", \"Segoe UI Emoji\", \"Segoe UI Symbol\"; \n",
    "            overflow: scroll;\n",
    "            }\n",
    "\n",
    "            </style>\n",
    "        \n",
    "        \"\"\")\n",
    "\n",
    "    with open('index.html', 'a') as index:\n",
    "        index.write(\"Training Modules\")\n",
    "        modules = [name for name in os.listdir(\"./html\") if not os.path.isdir(name)]\n",
    "        index.write(\"<ul>\")\n",
    "        for module_name in modules:\n",
    "            index.write(f'<li><a href=\"./html/{module_name}\">{module_name.split(\".\")[0]}</a>\\n')"
   ]
  },
  {
   "cell_type": "code",
   "execution_count": 5,
   "metadata": {},
   "outputs": [
    {
     "output_type": "stream",
     "name": "stdout",
     "text": [
      "Done!\n"
     ]
    }
   ],
   "source": [
    "print(\"Done!\")"
   ]
  }
 ]
}