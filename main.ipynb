{
 "metadata": {
  "language_info": {
   "codemirror_mode": {
    "name": "ipython",
    "version": 3
   },
   "file_extension": ".py",
   "mimetype": "text/x-python",
   "name": "python",
   "nbconvert_exporter": "python",
   "pygments_lexer": "ipython3",
   "version": "3.8.5-final"
  },
  "orig_nbformat": 2,
  "kernelspec": {
   "name": "python38564bit532e4f262c824eeb9e75a918cc794421",
   "display_name": "Python 3.8.5 64-bit",
   "language": "python"
  }
 },
 "nbformat": 4,
 "nbformat_minor": 2,
 "cells": [
  {
   "cell_type": "code",
   "execution_count": 1,
   "metadata": {},
   "outputs": [],
   "source": [
    "import markdown\n",
    "from time import sleep"
   ]
  },
  {
   "cell_type": "code",
   "execution_count": 2,
   "metadata": {},
   "outputs": [],
   "source": [
    "# filename = input(\"Enter a filename: \")"
   ]
  },
  {
   "cell_type": "code",
   "execution_count": 3,
   "metadata": {},
   "outputs": [],
   "source": [
    "with open('cli_basics.html', 'w') as milk_and_cookies:\n",
    "    pass\n",
    "with open('cli_basics.md', 'r') as f:\n",
    "    lines = f.readlines()\n",
    "    with open('cli_basics.html', 'a') as initial_css:\n",
    "        initial_css.write(\"\"\"<style>\n",
    "        body {\n",
    "            font-family: system-ui,-apple-system, BlinkMacSystemFont, \"Segoe UI\", Roboto, Oxygen, Ubuntu, Cantarell, \"Fira Sans\", \"Droid Sans\", \"Helvetica Neue\", Arial,sans-serif, \"Apple Color Emoji\", \"Segoe UI Emoji\", \"Segoe UI Symbol\"; \n",
    "            overflow: scroll;\n",
    "        }\n",
    "        .MainText {\n",
    "            max-width: 50%;\n",
    "            margin: 0 auto;\n",
    "\n",
    "        }\n",
    "\n",
    "        .CodeBlock {\n",
    "            background-color: lightgray\n",
    "        }\n",
    "        .Video {\n",
    "            margin: auto;\n",
    "        }\n",
    "\n",
    "        </style>\n",
    "\n",
    "        <div class=\"MainText\">\n",
    "\n",
    "        \"\"\")\n",
    "        \n",
    "    for text in lines:\n",
    "        html = markdown.markdown(text) + \"\\n\"\n",
    "        # if text != \"\\n\":\n",
    "        #     print(html)\n",
    "\n",
    "        prev_codeblock = False\n",
    "        skip = False\n",
    "\n",
    "        with open('cli_basics.html', 'a') as g:\n",
    "\n",
    "            if \"```\" in html and not prev_codeblock:\n",
    "                g.write('<div class=\"CodeBlock\">')\n",
    "                prev_codeblock = True\n",
    "                skip = True\n",
    "            elif \"```\" in html and prev_codeblock:\n",
    "                g.write(\"</div>\")\n",
    "                prev_codeblock = False\n",
    "                skip = True\n",
    "            elif \"<iframe\" in html:\n",
    "                g.write('<div class=\"Video\">')\n",
    "                g.write(html)\n",
    "                g.write(\"</div>\")\n",
    "                skip = True\n",
    "\n",
    "            if not skip:\n",
    "                g.write(html)\n",
    "                skip = False\n",
    "    \n",
    "    with open('cli_basics.html', 'a') as g:\n",
    "        g.write(\"</div>\")"
   ]
  },
  {
   "cell_type": "code",
   "execution_count": 4,
   "metadata": {},
   "outputs": [
    {
     "output_type": "stream",
     "name": "stdout",
     "text": [
      "Done!\n"
     ]
    }
   ],
   "source": [
    "print(\"Done!\")"
   ]
  }
 ]
}